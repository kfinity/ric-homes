{
 "cells": [
  {
   "cell_type": "code",
   "execution_count": 1,
   "id": "763938b9",
   "metadata": {},
   "outputs": [],
   "source": [
    "import pandas as pd\n",
    "\n",
    "pd.set_option('display.max_columns', None)"
   ]
  },
  {
   "cell_type": "markdown",
   "id": "82f17b12-a4e1-4c68-bc16-dc5076b04bf0",
   "metadata": {},
   "source": [
    "## Loading the files\n",
    "\n",
    "The City of Richmond Assessor's Office has a public data set of property ownership files.\n",
    "\n",
    "You can read more about them and access XLSX files at their site: https://www.rva.gov/assessor-real-estate/data-request\n",
    "\n",
    "Text/CSV files have historically been available at the FTP site: ftp://ftp.ci.richmond.va.us/Assessor/Real%20Tables/"
   ]
  },
  {
   "cell_type": "code",
   "execution_count": 72,
   "id": "6451f0ec",
   "metadata": {},
   "outputs": [],
   "source": [
    "def load_files():\n",
    "    # property transfers\n",
    "    tdf = pd.read_csv('data/COR Public Data April 14 2021/RealLand.txt', low_memory=False)\n",
    "    tdf['PIN'] = tdf['PIN'].str.strip()\n",
    "    \n",
    "    # we also need the Master file, to get the property classes (LandType in tdf is mostly useless)\n",
    "    mdf = pd.read_csv('data/COR Public Data April 14 2021/RealMaster.txt', low_memory=False)\n",
    "    mdf['PIN'] = mdf['PIN'].str.strip()\n",
    "    \n",
    "    return (tdf, mdf)"
   ]
  },
  {
   "cell_type": "code",
   "execution_count": 106,
   "id": "f8c58384-c222-489e-9102-ba22edd4e36f",
   "metadata": {},
   "outputs": [],
   "source": [
    "def sanitize_addresses(mdf):\n",
    "    # Sanitize location address to match mailing address\n",
    "    mdf['LocAddr'] = mdf['LocAddr'].str.upper().str.strip()\n",
    "    mdf['MailAddr'] = mdf['MailAddr'].str.strip()\n",
    "\n",
    "    mdf['MailAddr'] = mdf['MailAddr'].str.replace('RD$','ROAD',regex=True)\n",
    "    mdf['MailAddr'] = mdf['MailAddr'].str.replace('STREET','ST')\n",
    "    mdf['MailAddr'] = mdf['MailAddr'].str.replace(' LN',' LANE')\n",
    "    mdf['MailAddr'] = mdf['MailAddr'].str.replace('DRIVE','DR')\n",
    "    mdf['MailAddr'] = mdf['MailAddr'].str.replace('TERR','TER')\n",
    "    mdf['MailAddr'] = mdf['MailAddr'].str.replace('AVENUE','AVE')\n",
    "    mdf['MailAddr'] = mdf['MailAddr'].str.replace('P.O.','PO',regex=False)\n",
    "    mdf['MailAddr'] = mdf['MailAddr'].str.replace('OXFORD CIRCLE WEST','W OXFORD CIR')\n",
    "    mdf['MailAddr'] = mdf['MailAddr'].str.replace('OXFORD CIRCLE EAST','E OXFORD CIR')\n",
    "    mdf['MailAddr'] = mdf['MailAddr'].str.replace('CARY ST ROAD','CARY STREET ROAD')\n",
    "    \n",
    "    # lazy method - see if first 4 characters of the addresses match. this usually catches the whole street number.\n",
    "    mdf['loc_short'] = mdf['LocAddr'].str[0:4]\n",
    "    mdf['mail_short'] = mdf['MailAddr'].str[0:4]\n",
    "    \n",
    "    return mdf\n",
    "\n",
    "# looking up counts of different street names\n",
    "#mdf[mdf['LocAddr'].str.upper().str.contains(' DR')].shape[0]\n",
    "# total 75292\n",
    "\n",
    "# MailAddr\n",
    "# ROAD 1515\n",
    "# RD 13899\n",
    "# STREET 1863\n",
    "# ST 19846\n",
    "# LANE 1631\n",
    "# LN 1429\n",
    "\n",
    "# LocAddr\n",
    "# ROAD 13887\n",
    "# RD 0\n",
    "# STREET 315\n",
    "# ST 26628\n",
    "# LANE 2593\n",
    "# LN 0\n",
    "# DR 4775\n",
    "# DRIVE 0"
   ]
  },
  {
   "cell_type": "code",
   "execution_count": 78,
   "id": "4ce71c30-4517-499f-af61-b07b53df37b5",
   "metadata": {},
   "outputs": [
    {
     "data": {
      "text/plain": [
       "(75292, 107)"
      ]
     },
     "execution_count": 78,
     "metadata": {},
     "output_type": "execute_result"
    }
   ],
   "source": [
    "(tdf, mdf) = load_files()\n",
    "tdf.shape"
   ]
  },
  {
   "cell_type": "code",
   "execution_count": 107,
   "id": "fcdb6107-eece-4884-bb2b-d36478e9eaf1",
   "metadata": {},
   "outputs": [],
   "source": [
    "# sanitized master\n",
    "smdf = sanitize_addresses(mdf)"
   ]
  },
  {
   "cell_type": "code",
   "execution_count": 70,
   "id": "a13cabc3-e488-4fcf-b73d-362ead0d8ee4",
   "metadata": {},
   "outputs": [],
   "source": [
    "# reference - property classes. run this to create the file\n",
    "#mdf.groupby(['PropClas','PCDesc'])['PIN'].count().reset_index().to_csv('property_class_ref.csv',index=False)\n",
    "\n",
    "# Generally, 101-399 are R (residential) properties\n",
    "# 101 = vacant\n",
    "# 102 = island\n",
    "# 105 = park\n",
    "# 110-181 = most homes (55396 rows)\n",
    "# 210-212 = condos (3908 rows)\n",
    "# 310-341 = apartments\n",
    "# 196,396 = LIHTC apartments"
   ]
  },
  {
   "cell_type": "code",
   "execution_count": 114,
   "id": "57f32256",
   "metadata": {},
   "outputs": [
    {
     "data": {
      "text/plain": [
       "(41396, 136)"
      ]
     },
     "execution_count": 114,
     "metadata": {},
     "output_type": "execute_result"
    }
   ],
   "source": [
    "# Create a new column to identify whether it's a primary resident (ie, the owner's mailing addr matches the location)\n",
    "\n",
    "# this one didn't work great - there's a lot of variation, e.g. \"N0051081001\t3201 FIFTH AVE\t3201 5TH AVE\"\n",
    "#smdf['resOwner'] = 0\n",
    "#smdf.loc[smdf.MailAddr == smdf.LocAddr, 'resOwner'] = 1\n",
    "#smdf.loc[(smdf.PropClas==196) | smdf.PropClas.between(310, 355) | (smdf.PropClas == 396), 'resOwner'] = 0 # set rentals to 0\n",
    "\n",
    "# this one is also not perfect - there are rare exceptions like:\n",
    "# W0000103015\t2 W FRANKLIN ST\t2 W MAIN ST\n",
    "# but it has a much higher accuracy than comparing full addresses - adds about 5k rows\n",
    "smdf['resOwner'] = 0\n",
    "smdf.loc[smdf.mail_short == smdf.loc_short, 'resOwner'] = 1\n",
    "smdf.loc[(smdf.PropClas==196) | smdf.PropClas.between(310, 355) | (smdf.PropClas == 396), 'resOwner'] = 0 # set rentals to 0\n",
    "\n",
    "# print how many owners (see tdf.shape for total addresses) currently 41396\n",
    "smdf.loc[smdf.resOwner == 1].shape"
   ]
  },
  {
   "cell_type": "code",
   "execution_count": 134,
   "id": "493db8a9-2058-43d5-b59e-1b33438620bc",
   "metadata": {},
   "outputs": [],
   "source": [
    "# add a new column to indicate how far away the owner of the property lives\n",
    "# 0 = owner-occupied\n",
    "# 1 = same zip\n",
    "# 2 = in richmond\n",
    "# 3 = in virginia\n",
    "# 4 = outside VA\n",
    "smdf['ownerDistance'] = 'Owner out of state'\n",
    "smdf.loc[smdf['MailStat'].str.strip() == 'VA','ownerDistance'] = 'Owner in Virginia'\n",
    "smdf.loc[smdf['MailCity'].str.strip() == 'RICHMOND', 'ownerDistance'] = 'Owner in Richmond'\n",
    "#smdf.loc[smdf['MailZip'].str.strip() == smdf['LocZip'].str.strip(), 'ownerDistance'] = 'Owner in same zip code'\n",
    "smdf.loc[smdf['resOwner'] == 1, 'ownerDistance'] = 'Owner-occupied'"
   ]
  },
  {
   "cell_type": "code",
   "execution_count": 189,
   "id": "8aa25ed9",
   "metadata": {},
   "outputs": [],
   "source": [
    "# merge into a combined df\n",
    "# keep only homes (residential parcels)\n",
    "homes = smdf.loc[smdf.PropClas.between(110, 181) | smdf.PropClas.between(196, 198) | smdf.PropClas.between(210, 212) \\\n",
    "                  | smdf.PropClas.between(310, 355) | (smdf.PropClas == 396) \\\n",
    "                 , ['PIN','PropClas','resOwner','ownerDistance','MailAddr','Owner1']]\n",
    "\n",
    "# join dfs, only keep homes\n",
    "cdf = pd.merge(tdf, homes, left_on=['PIN'], right_on=['PIN'], how='inner')"
   ]
  },
  {
   "cell_type": "code",
   "execution_count": 190,
   "id": "1a3e7297",
   "metadata": {},
   "outputs": [],
   "source": [
    "# columns to keep:\n",
    "cols = ['LRSN','PIN','Sale1D','Sale2D','Sale3D','PropClas','resOwner','ownerDistance']\n",
    "cdf = cdf.loc[:,cols]\n",
    "cdf['Sale1D'] = pd.to_datetime(cdf['Sale1D'], format='%m/%d/%Y', errors='coerce') \n",
    "cdf['Sale2D'] = pd.to_datetime(cdf['Sale2D'], format='%m/%d/%Y', errors='coerce') \n",
    "cdf['Sale3D'] = pd.to_datetime(cdf['Sale3D'], format='%m/%d/%Y', errors='coerce') "
   ]
  },
  {
   "cell_type": "code",
   "execution_count": 191,
   "id": "58290a71",
   "metadata": {},
   "outputs": [],
   "source": [
    "from datetime import date \n",
    "\n",
    "cdf['curr_own_len'] = pd.Timestamp.now().normalize() - cdf['Sale1D']"
   ]
  },
  {
   "cell_type": "code",
   "execution_count": 192,
   "id": "e7e8b660",
   "metadata": {},
   "outputs": [
    {
     "data": {
      "text/html": [
       "<div>\n",
       "<style scoped>\n",
       "    .dataframe tbody tr th:only-of-type {\n",
       "        vertical-align: middle;\n",
       "    }\n",
       "\n",
       "    .dataframe tbody tr th {\n",
       "        vertical-align: top;\n",
       "    }\n",
       "\n",
       "    .dataframe thead th {\n",
       "        text-align: right;\n",
       "    }\n",
       "</style>\n",
       "<table border=\"1\" class=\"dataframe\">\n",
       "  <thead>\n",
       "    <tr style=\"text-align: right;\">\n",
       "      <th></th>\n",
       "      <th>LRSN</th>\n",
       "      <th>PIN</th>\n",
       "      <th>Sale1D</th>\n",
       "      <th>Sale2D</th>\n",
       "      <th>Sale3D</th>\n",
       "      <th>PropClas</th>\n",
       "      <th>resOwner</th>\n",
       "      <th>ownerDistance</th>\n",
       "      <th>curr_own_len</th>\n",
       "      <th>len2D</th>\n",
       "      <th>len3D</th>\n",
       "      <th>avg_own_len</th>\n",
       "    </tr>\n",
       "  </thead>\n",
       "  <tbody>\n",
       "    <tr>\n",
       "      <th>0</th>\n",
       "      <td>76223</td>\n",
       "      <td>C0070553183</td>\n",
       "      <td>2017-08-09</td>\n",
       "      <td>NaT</td>\n",
       "      <td>NaT</td>\n",
       "      <td>212</td>\n",
       "      <td>0</td>\n",
       "      <td>4</td>\n",
       "      <td>1528 days</td>\n",
       "      <td>NaT</td>\n",
       "      <td>NaT</td>\n",
       "      <td>1528 days 00:00:00</td>\n",
       "    </tr>\n",
       "    <tr>\n",
       "      <th>1</th>\n",
       "      <td>20318</td>\n",
       "      <td>E0000635006</td>\n",
       "      <td>2007-11-16</td>\n",
       "      <td>2002-12-02</td>\n",
       "      <td>2000-05-01</td>\n",
       "      <td>120</td>\n",
       "      <td>1</td>\n",
       "      <td>0</td>\n",
       "      <td>5082 days</td>\n",
       "      <td>1810 days</td>\n",
       "      <td>945 days</td>\n",
       "      <td>2612 days 08:00:00</td>\n",
       "    </tr>\n",
       "    <tr>\n",
       "      <th>2</th>\n",
       "      <td>74710</td>\n",
       "      <td>W0001283044</td>\n",
       "      <td>2018-03-07</td>\n",
       "      <td>2012-06-19</td>\n",
       "      <td>2005-10-18</td>\n",
       "      <td>211</td>\n",
       "      <td>0</td>\n",
       "      <td>3</td>\n",
       "      <td>1318 days</td>\n",
       "      <td>2087 days</td>\n",
       "      <td>2436 days</td>\n",
       "      <td>1947 days 00:00:00</td>\n",
       "    </tr>\n",
       "    <tr>\n",
       "      <th>3</th>\n",
       "      <td>1880</td>\n",
       "      <td>C0011224032</td>\n",
       "      <td>2009-04-03</td>\n",
       "      <td>2003-09-11</td>\n",
       "      <td>2002-01-22</td>\n",
       "      <td>110</td>\n",
       "      <td>1</td>\n",
       "      <td>0</td>\n",
       "      <td>4578 days</td>\n",
       "      <td>2031 days</td>\n",
       "      <td>597 days</td>\n",
       "      <td>2402 days 00:00:00</td>\n",
       "    </tr>\n",
       "    <tr>\n",
       "      <th>4</th>\n",
       "      <td>10053</td>\n",
       "      <td>C0070166130</td>\n",
       "      <td>2010-06-22</td>\n",
       "      <td>2010-03-08</td>\n",
       "      <td>2006-08-30</td>\n",
       "      <td>120</td>\n",
       "      <td>1</td>\n",
       "      <td>0</td>\n",
       "      <td>4133 days</td>\n",
       "      <td>106 days</td>\n",
       "      <td>1286 days</td>\n",
       "      <td>1841 days 16:00:00</td>\n",
       "    </tr>\n",
       "  </tbody>\n",
       "</table>\n",
       "</div>"
      ],
      "text/plain": [
       "    LRSN          PIN     Sale1D     Sale2D     Sale3D  PropClas  resOwner  \\\n",
       "0  76223  C0070553183 2017-08-09        NaT        NaT       212         0   \n",
       "1  20318  E0000635006 2007-11-16 2002-12-02 2000-05-01       120         1   \n",
       "2  74710  W0001283044 2018-03-07 2012-06-19 2005-10-18       211         0   \n",
       "3   1880  C0011224032 2009-04-03 2003-09-11 2002-01-22       110         1   \n",
       "4  10053  C0070166130 2010-06-22 2010-03-08 2006-08-30       120         1   \n",
       "\n",
       "   ownerDistance curr_own_len     len2D     len3D        avg_own_len  \n",
       "0              4    1528 days       NaT       NaT 1528 days 00:00:00  \n",
       "1              0    5082 days 1810 days  945 days 2612 days 08:00:00  \n",
       "2              3    1318 days 2087 days 2436 days 1947 days 00:00:00  \n",
       "3              0    4578 days 2031 days  597 days 2402 days 00:00:00  \n",
       "4              0    4133 days  106 days 1286 days 1841 days 16:00:00  "
      ]
     },
     "execution_count": 192,
     "metadata": {},
     "output_type": "execute_result"
    }
   ],
   "source": [
    "cdf = cdf.set_index(['LRSN','PIN'])\n",
    "cdf['len2D'] = cdf['Sale1D']-cdf['Sale2D']\n",
    "cdf['len3D'] = cdf['Sale2D']-cdf['Sale3D']\n",
    "cdf['avg_own_len'] = cdf.loc[:,['curr_own_len','len2D','len3D']].mean(axis=1)\n",
    "cdf = cdf.reset_index()\n",
    "cdf.head()"
   ]
  },
  {
   "cell_type": "code",
   "execution_count": 127,
   "id": "07e8ad1c",
   "metadata": {},
   "outputs": [
    {
     "data": {
      "text/plain": [
       "               LRSN \n",
       "PIN            64563            W0190082028\n",
       "Sale1D         64563    2018-04-24 00:00:00\n",
       "Sale2D         64563    2014-03-10 00:00:00\n",
       "Sale3D         64563    2009-08-07 00:00:00\n",
       "PropClas       64563                    150\n",
       "resOwner       64563                      1\n",
       "ownerDistance  64563                      0\n",
       "curr_own_len   64563     1270 days 00:00:00\n",
       "len2D          64563     1506 days 00:00:00\n",
       "len3D          64563     1676 days 00:00:00\n",
       "avg_own_len    64563     1484 days 00:00:00\n",
       "dtype: object"
      ]
     },
     "execution_count": 127,
     "metadata": {},
     "output_type": "execute_result"
    }
   ],
   "source": [
    "# edie 64563\n",
    "# NaTs - 76223\n",
    "# glitchy? 29281\n",
    "cdf.loc[cdf['LRSN']==64563].set_index('LRSN').unstack()"
   ]
  },
  {
   "cell_type": "code",
   "execution_count": 193,
   "id": "6cbe8861",
   "metadata": {},
   "outputs": [],
   "source": [
    "cdf['curr_own_len'] = cdf['curr_own_len'].dt.days\n",
    "cdf['avg_own_len'] = cdf['avg_own_len'].dt.days\n"
   ]
  },
  {
   "cell_type": "code",
   "execution_count": 141,
   "id": "4e4e146e",
   "metadata": {},
   "outputs": [],
   "source": [
    "# save to CSV\n",
    "cdf.loc[:,['LRSN','PIN','curr_own_len','avg_own_len','PropClas','resOwner','ownerDistance']].to_csv('all_res_own.csv',index=False)"
   ]
  },
  {
   "cell_type": "code",
   "execution_count": 33,
   "id": "f9efe203",
   "metadata": {},
   "outputs": [
    {
     "data": {
      "text/html": [
       "<div>\n",
       "<style scoped>\n",
       "    .dataframe tbody tr th:only-of-type {\n",
       "        vertical-align: middle;\n",
       "    }\n",
       "\n",
       "    .dataframe tbody tr th {\n",
       "        vertical-align: top;\n",
       "    }\n",
       "\n",
       "    .dataframe thead th {\n",
       "        text-align: right;\n",
       "    }\n",
       "</style>\n",
       "<table border=\"1\" class=\"dataframe\">\n",
       "  <thead>\n",
       "    <tr style=\"text-align: right;\">\n",
       "      <th></th>\n",
       "      <th>PIN</th>\n",
       "      <th>MailAddr</th>\n",
       "      <th>LocAddr</th>\n",
       "      <th>resOwner</th>\n",
       "      <th>PropClas</th>\n",
       "    </tr>\n",
       "  </thead>\n",
       "  <tbody>\n",
       "    <tr>\n",
       "      <th>3719</th>\n",
       "      <td>E0000911003</td>\n",
       "      <td>900 E BROAD ST RM 701</td>\n",
       "      <td>2100 WHITCOMB ST</td>\n",
       "      <td>0</td>\n",
       "      <td>105</td>\n",
       "    </tr>\n",
       "  </tbody>\n",
       "</table>\n",
       "</div>"
      ],
      "text/plain": [
       "              PIN               MailAddr           LocAddr  resOwner  PropClas\n",
       "3719  E0000911003  900 E BROAD ST RM 701  2100 WHITCOMB ST         0       105"
      ]
     },
     "execution_count": 33,
     "metadata": {},
     "output_type": "execute_result"
    }
   ],
   "source": [
    "mdf.loc[mdf['PIN']=='E0000911003', ['PIN','MailAddr', 'LocAddr', 'resOwner', 'PropClas'] ]"
   ]
  },
  {
   "cell_type": "markdown",
   "id": "1a24a09a-1ec0-4ad0-ad44-4db02d90a3d5",
   "metadata": {},
   "source": [
    "## for houses, do homeowners own them for longer than investors, or nah"
   ]
  },
  {
   "cell_type": "code",
   "execution_count": 66,
   "id": "4e8570c5-f01b-475a-bb54-eb078dbc8dcd",
   "metadata": {},
   "outputs": [
    {
     "data": {
      "text/html": [
       "<div>\n",
       "<style scoped>\n",
       "    .dataframe tbody tr th:only-of-type {\n",
       "        vertical-align: middle;\n",
       "    }\n",
       "\n",
       "    .dataframe tbody tr th {\n",
       "        vertical-align: top;\n",
       "    }\n",
       "\n",
       "    .dataframe thead th {\n",
       "        text-align: right;\n",
       "    }\n",
       "</style>\n",
       "<table border=\"1\" class=\"dataframe\">\n",
       "  <thead>\n",
       "    <tr style=\"text-align: right;\">\n",
       "      <th></th>\n",
       "      <th>LRSN</th>\n",
       "      <th>PropClas</th>\n",
       "      <th>curr_own_len</th>\n",
       "      <th>avg_own_len</th>\n",
       "    </tr>\n",
       "    <tr>\n",
       "      <th>resOwner</th>\n",
       "      <th></th>\n",
       "      <th></th>\n",
       "      <th></th>\n",
       "      <th></th>\n",
       "    </tr>\n",
       "  </thead>\n",
       "  <tbody>\n",
       "    <tr>\n",
       "      <th>0</th>\n",
       "      <td>37954.796755</td>\n",
       "      <td>123.090094</td>\n",
       "      <td>4085.537376</td>\n",
       "      <td>3880.925921</td>\n",
       "    </tr>\n",
       "    <tr>\n",
       "      <th>1</th>\n",
       "      <td>36290.031192</td>\n",
       "      <td>118.297107</td>\n",
       "      <td>5064.603500</td>\n",
       "      <td>4445.052762</td>\n",
       "    </tr>\n",
       "  </tbody>\n",
       "</table>\n",
       "</div>"
      ],
      "text/plain": [
       "                  LRSN    PropClas  curr_own_len  avg_own_len\n",
       "resOwner                                                     \n",
       "0         37954.796755  123.090094   4085.537376  3880.925921\n",
       "1         36290.031192  118.297107   5064.603500  4445.052762"
      ]
     },
     "execution_count": 66,
     "metadata": {},
     "output_type": "execute_result"
    }
   ],
   "source": [
    "tdf.loc[tdf.PropClas.between(110, 181) | mdf.PropClas.between(210, 212)].groupby('resOwner').mean()"
   ]
  },
  {
   "cell_type": "code",
   "execution_count": 67,
   "id": "3326d2dd-4a1c-4af8-84d4-1058ffc4475b",
   "metadata": {},
   "outputs": [
    {
     "data": {
      "text/html": [
       "<div>\n",
       "<style scoped>\n",
       "    .dataframe tbody tr th:only-of-type {\n",
       "        vertical-align: middle;\n",
       "    }\n",
       "\n",
       "    .dataframe tbody tr th {\n",
       "        vertical-align: top;\n",
       "    }\n",
       "\n",
       "    .dataframe thead th {\n",
       "        text-align: right;\n",
       "    }\n",
       "</style>\n",
       "<table border=\"1\" class=\"dataframe\">\n",
       "  <thead>\n",
       "    <tr style=\"text-align: right;\">\n",
       "      <th></th>\n",
       "      <th>LRSN</th>\n",
       "      <th>PropClas</th>\n",
       "      <th>curr_own_len</th>\n",
       "      <th>avg_own_len</th>\n",
       "    </tr>\n",
       "    <tr>\n",
       "      <th>resOwner</th>\n",
       "      <th></th>\n",
       "      <th></th>\n",
       "      <th></th>\n",
       "      <th></th>\n",
       "    </tr>\n",
       "  </thead>\n",
       "  <tbody>\n",
       "    <tr>\n",
       "      <th>0</th>\n",
       "      <td>37112.5</td>\n",
       "      <td>115.0</td>\n",
       "      <td>2878.0</td>\n",
       "      <td>2948.0</td>\n",
       "    </tr>\n",
       "    <tr>\n",
       "      <th>1</th>\n",
       "      <td>36427.5</td>\n",
       "      <td>115.0</td>\n",
       "      <td>3421.0</td>\n",
       "      <td>3369.0</td>\n",
       "    </tr>\n",
       "  </tbody>\n",
       "</table>\n",
       "</div>"
      ],
      "text/plain": [
       "             LRSN  PropClas  curr_own_len  avg_own_len\n",
       "resOwner                                              \n",
       "0         37112.5     115.0        2878.0       2948.0\n",
       "1         36427.5     115.0        3421.0       3369.0"
      ]
     },
     "execution_count": 67,
     "metadata": {},
     "output_type": "execute_result"
    }
   ],
   "source": [
    "tdf.loc[tdf.PropClas.between(110, 181) | mdf.PropClas.between(210, 212)].groupby('resOwner').median()"
   ]
  },
  {
   "cell_type": "code",
   "execution_count": 68,
   "id": "597fb961-3c74-4835-a4e5-b111e83c74bb",
   "metadata": {},
   "outputs": [
    {
     "data": {
      "text/plain": [
       "8.076712328767123"
      ]
     },
     "execution_count": 68,
     "metadata": {},
     "output_type": "execute_result"
    }
   ],
   "source": [
    "# no, definitely not - either way, secondary properties are typically sold 4-600 days sooner than primary\n",
    "\n",
    "2948/365 # median 8 years for investors to sell, vs 9.2 for homeowners"
   ]
  },
  {
   "cell_type": "markdown",
   "id": "f479bed5-ffb9-4f44-bff4-b1fc4a469421",
   "metadata": {},
   "source": [
    "## for the Distance metric, how many fall into each category?"
   ]
  },
  {
   "cell_type": "code",
   "execution_count": 170,
   "id": "5ea6d7b8-6689-4ff2-aca4-88c8fc5ac1b8",
   "metadata": {},
   "outputs": [
    {
     "data": {
      "text/plain": [
       "ownerDistance\n",
       "1    0.132405\n",
       "2    0.447132\n",
       "3    0.312721\n",
       "4    0.107741\n",
       "Name: PIN, dtype: float64"
      ]
     },
     "execution_count": 170,
     "metadata": {},
     "output_type": "execute_result"
    }
   ],
   "source": [
    "smdf.loc[smdf['resOwner']==0].groupby(['ownerDistance']).count()['PIN'] / smdf.loc[smdf['resOwner']==0].count()['PIN']"
   ]
  },
  {
   "cell_type": "code",
   "execution_count": 194,
   "id": "4211877d-30d7-458b-a8f3-79a3e9ee7dd7",
   "metadata": {},
   "outputs": [
    {
     "data": {
      "text/html": [
       "<div>\n",
       "<style scoped>\n",
       "    .dataframe tbody tr th:only-of-type {\n",
       "        vertical-align: middle;\n",
       "    }\n",
       "\n",
       "    .dataframe tbody tr th {\n",
       "        vertical-align: top;\n",
       "    }\n",
       "\n",
       "    .dataframe thead th {\n",
       "        text-align: right;\n",
       "    }\n",
       "</style>\n",
       "<table border=\"1\" class=\"dataframe\">\n",
       "  <thead>\n",
       "    <tr style=\"text-align: right;\">\n",
       "      <th></th>\n",
       "      <th>Owner1</th>\n",
       "      <th>PIN</th>\n",
       "    </tr>\n",
       "    <tr>\n",
       "      <th>MailAddr</th>\n",
       "      <th></th>\n",
       "      <th></th>\n",
       "    </tr>\n",
       "  </thead>\n",
       "  <tbody>\n",
       "    <tr>\n",
       "      <th>5310 MARKEL RD #104</th>\n",
       "      <td>{8 CANTERBURY TRUST TRUSTEE          , CAVA CA...</td>\n",
       "      <td>148</td>\n",
       "    </tr>\n",
       "    <tr>\n",
       "      <th>2200 PENNSYLVANIA AVE NW 4 FL E</th>\n",
       "      <td>{AWE BROOKSIDE OWNER LLC             }</td>\n",
       "      <td>147</td>\n",
       "    </tr>\n",
       "    <tr>\n",
       "      <th>304 E MAIN ST</th>\n",
       "      <td>{CLAIBORNE COURT LLC                 , DOBRIN ...</td>\n",
       "      <td>134</td>\n",
       "    </tr>\n",
       "    <tr>\n",
       "      <th>300 W FREEMASON ST</th>\n",
       "      <td>{VILLAS OF OAKWOOD LLC               }</td>\n",
       "      <td>129</td>\n",
       "    </tr>\n",
       "    <tr>\n",
       "      <th>901 CHAMBERLAYNE PKWY</th>\n",
       "      <td>{RICHMOND REDEVELOPMENT AND          }</td>\n",
       "      <td>113</td>\n",
       "    </tr>\n",
       "    <tr>\n",
       "      <th>4100 REGENT ST STE G</th>\n",
       "      <td>{RB HRIP RICHMOND MULTIFAMILY        }</td>\n",
       "      <td>108</td>\n",
       "    </tr>\n",
       "    <tr>\n",
       "      <th>23 W BROAD ST STE 100</th>\n",
       "      <td>{4101 NORTH AVENUE II LLC            , BECKSTO...</td>\n",
       "      <td>94</td>\n",
       "    </tr>\n",
       "    <tr>\n",
       "      <th>PO BOX 25989</th>\n",
       "      <td>{TARTAKOVSKY STEVEN V                , RVA REN...</td>\n",
       "      <td>94</td>\n",
       "    </tr>\n",
       "    <tr>\n",
       "      <th>PO BOX 69</th>\n",
       "      <td>{SOLFERINO RAYMOND                   , SOLFERI...</td>\n",
       "      <td>93</td>\n",
       "    </tr>\n",
       "    <tr>\n",
       "      <th>PO BOX 29527</th>\n",
       "      <td>{PARSONS H DEAN JR                   , INTERMO...</td>\n",
       "      <td>81</td>\n",
       "    </tr>\n",
       "    <tr>\n",
       "      <th>204 RIVERS BEND BLVD</th>\n",
       "      <td>{NEW WARWICK TOWNHOMES LLC           }</td>\n",
       "      <td>80</td>\n",
       "    </tr>\n",
       "    <tr>\n",
       "      <th>1003 K ST NW SUITE 700</th>\n",
       "      <td>{THE COMMUNITY BUILDERS INC          }</td>\n",
       "      <td>72</td>\n",
       "    </tr>\n",
       "    <tr>\n",
       "      <th>11600 LONG MEADOW DR</th>\n",
       "      <td>{PINE CONE INVESTMENTS IV LLC        , CONE DO...</td>\n",
       "      <td>62</td>\n",
       "    </tr>\n",
       "    <tr>\n",
       "      <th>204 RIVER BEND BLVD STE A</th>\n",
       "      <td>{NEW WARWICK TOWNHOMES 2 LLC         }</td>\n",
       "      <td>60</td>\n",
       "    </tr>\n",
       "    <tr>\n",
       "      <th>210 E MAIN ST</th>\n",
       "      <td>{GOODWYN'S SONS H W                  , GOODWYN...</td>\n",
       "      <td>56</td>\n",
       "    </tr>\n",
       "    <tr>\n",
       "      <th>3101 CUTSHAW AVE</th>\n",
       "      <td>{CASEY INVESTMENTS LLC               , DESHAZO...</td>\n",
       "      <td>51</td>\n",
       "    </tr>\n",
       "    <tr>\n",
       "      <th>13525 COTLEY LANE</th>\n",
       "      <td>{PRAXIS PROPERTIES LLC               , CARLISL...</td>\n",
       "      <td>51</td>\n",
       "    </tr>\n",
       "    <tr>\n",
       "      <th>511 EAST BOULEVAROAD</th>\n",
       "      <td>{DOVE STREET LLC                     , DOVE ST...</td>\n",
       "      <td>51</td>\n",
       "    </tr>\n",
       "    <tr>\n",
       "      <th>NMA</th>\n",
       "      <td>{ATSU SAMUEL                         , WILLIAM...</td>\n",
       "      <td>50</td>\n",
       "    </tr>\n",
       "    <tr>\n",
       "      <th>2111 W MAIN ST</th>\n",
       "      <td>{BAYHILL LLC                         , 1020 TI...</td>\n",
       "      <td>49</td>\n",
       "    </tr>\n",
       "  </tbody>\n",
       "</table>\n",
       "</div>"
      ],
      "text/plain": [
       "                                                                            Owner1  \\\n",
       "MailAddr                                                                             \n",
       "5310 MARKEL RD #104              {8 CANTERBURY TRUST TRUSTEE          , CAVA CA...   \n",
       "2200 PENNSYLVANIA AVE NW 4 FL E             {AWE BROOKSIDE OWNER LLC             }   \n",
       "304 E MAIN ST                    {CLAIBORNE COURT LLC                 , DOBRIN ...   \n",
       "300 W FREEMASON ST                          {VILLAS OF OAKWOOD LLC               }   \n",
       "901 CHAMBERLAYNE PKWY                       {RICHMOND REDEVELOPMENT AND          }   \n",
       "4100 REGENT ST STE G                        {RB HRIP RICHMOND MULTIFAMILY        }   \n",
       "23 W BROAD ST STE 100            {4101 NORTH AVENUE II LLC            , BECKSTO...   \n",
       "PO BOX 25989                     {TARTAKOVSKY STEVEN V                , RVA REN...   \n",
       "PO BOX 69                        {SOLFERINO RAYMOND                   , SOLFERI...   \n",
       "PO BOX 29527                     {PARSONS H DEAN JR                   , INTERMO...   \n",
       "204 RIVERS BEND BLVD                        {NEW WARWICK TOWNHOMES LLC           }   \n",
       "1003 K ST NW SUITE 700                      {THE COMMUNITY BUILDERS INC          }   \n",
       "11600 LONG MEADOW DR             {PINE CONE INVESTMENTS IV LLC        , CONE DO...   \n",
       "204 RIVER BEND BLVD STE A                   {NEW WARWICK TOWNHOMES 2 LLC         }   \n",
       "210 E MAIN ST                    {GOODWYN'S SONS H W                  , GOODWYN...   \n",
       "3101 CUTSHAW AVE                 {CASEY INVESTMENTS LLC               , DESHAZO...   \n",
       "13525 COTLEY LANE                {PRAXIS PROPERTIES LLC               , CARLISL...   \n",
       "511 EAST BOULEVAROAD             {DOVE STREET LLC                     , DOVE ST...   \n",
       "NMA                              {ATSU SAMUEL                         , WILLIAM...   \n",
       "2111 W MAIN ST                   {BAYHILL LLC                         , 1020 TI...   \n",
       "\n",
       "                                 PIN  \n",
       "MailAddr                              \n",
       "5310 MARKEL RD #104              148  \n",
       "2200 PENNSYLVANIA AVE NW 4 FL E  147  \n",
       "304 E MAIN ST                    134  \n",
       "300 W FREEMASON ST               129  \n",
       "901 CHAMBERLAYNE PKWY            113  \n",
       "4100 REGENT ST STE G             108  \n",
       "23 W BROAD ST STE 100             94  \n",
       "PO BOX 25989                      94  \n",
       "PO BOX 69                         93  \n",
       "PO BOX 29527                      81  \n",
       "204 RIVERS BEND BLVD              80  \n",
       "1003 K ST NW SUITE 700            72  \n",
       "11600 LONG MEADOW DR              62  \n",
       "204 RIVER BEND BLVD STE A         60  \n",
       "210 E MAIN ST                     56  \n",
       "3101 CUTSHAW AVE                  51  \n",
       "13525 COTLEY LANE                 51  \n",
       "511 EAST BOULEVAROAD              51  \n",
       "NMA                               50  \n",
       "2111 W MAIN ST                    49  "
      ]
     },
     "execution_count": 194,
     "metadata": {},
     "output_type": "execute_result"
    }
   ],
   "source": [
    "# looking at the top mailing addresses for residences\n",
    "homes.groupby('MailAddr').agg({'Owner1':lambda x: set(x),'PIN':'count'}).sort_values('PIN',ascending=False).head(20)"
   ]
  },
  {
   "cell_type": "code",
   "execution_count": 166,
   "id": "c68cb208-53ec-441a-9079-bf286364f3a6",
   "metadata": {},
   "outputs": [
    {
     "name": "stdout",
     "output_type": "stream",
     "text": [
      "47.999925000000005\n",
      "161.99997000000002\n",
      "218.00001\n",
      "251.999925\n",
      "79.00002\n",
      "47.999925000000005\n",
      "228.999945\n",
      "174.000015\n",
      "56.00004\n",
      "109.000005\n",
      "144.00003\n",
      "79.00002\n",
      "138.99999\n",
      "138.99999\n",
      "138.99999\n"
     ]
    }
   ],
   "source": [
    "for c in cc.glasbey_hv[0:5]:\n",
    "    for i in c:\n",
    "        print(i*255)"
   ]
  },
  {
   "cell_type": "code",
   "execution_count": 195,
   "id": "6ad278a6-262d-41e5-bcd9-757cdc80dd34",
   "metadata": {},
   "outputs": [],
   "source": [
    "import colorama"
   ]
  },
  {
   "cell_type": "code",
   "execution_count": null,
   "id": "7918758f-047e-4013-9b20-d0aa2b2d09ff",
   "metadata": {},
   "outputs": [],
   "source": []
  }
 ],
 "metadata": {
  "kernelspec": {
   "display_name": "Python 3",
   "language": "python",
   "name": "python3"
  },
  "language_info": {
   "codemirror_mode": {
    "name": "ipython",
    "version": 3
   },
   "file_extension": ".py",
   "mimetype": "text/x-python",
   "name": "python",
   "nbconvert_exporter": "python",
   "pygments_lexer": "ipython3",
   "version": "3.8.3"
  }
 },
 "nbformat": 4,
 "nbformat_minor": 5
}
